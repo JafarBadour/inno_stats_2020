{
 "cells": [
  {
   "cell_type": "code",
   "execution_count": 1,
   "metadata": {},
   "outputs": [],
   "source": [
    "import bz2\n",
    "import os\n",
    "import pickle\n",
    "import pandas as pd\n",
    "import matplotlib.pyplot as plt"
   ]
  },
  {
   "cell_type": "code",
   "execution_count": 2,
   "metadata": {},
   "outputs": [],
   "source": [
    "DATA_PATH = './data'\n",
    "september_dataset = os.path.join(DATA_PATH, '09_prepared.pkl.bz2')\n",
    "october_dataset = os.path.join(DATA_PATH, '10_prepared.pkl.bz2')\n",
    "november_dataset = os.path.join(DATA_PATH, '11_prepared.pkl.bz2')"
   ]
  },
  {
   "cell_type": "code",
   "execution_count": 3,
   "metadata": {},
   "outputs": [],
   "source": [
    "with bz2.open(september_dataset, 'rb') as file:\n",
    "    df = pickle.load(file)"
   ]
  },
  {
   "cell_type": "code",
   "execution_count": 3,
   "metadata": {},
   "outputs": [],
   "source": [
    "with bz2.open(october_dataset, 'rb') as file:\n",
    "    dfo = pickle.load(file)"
   ]
  },
  {
   "cell_type": "code",
   "execution_count": null,
   "metadata": {},
   "outputs": [],
   "source": [
    "with bz2.open(november_dataset, 'rb') as file:\n",
    "    dfn = pickle.load(file)"
   ]
  },
  {
   "cell_type": "code",
   "execution_count": null,
   "metadata": {},
   "outputs": [],
   "source": []
  },
  {
   "cell_type": "markdown",
   "metadata": {},
   "source": [
    "### Consider id_cards with both non positive sum or non positive quantity as outliers"
   ]
  },
  {
   "cell_type": "code",
   "execution_count": 26,
   "metadata": {},
   "outputs": [],
   "source": [
    "\n",
    "res_df = df[(df['sum'] < 0) | (df['quantity'] < 0)]\n",
    "res_outliers = res_df.id_card_int\n"
   ]
  },
  {
   "cell_type": "code",
   "execution_count": 28,
   "metadata": {},
   "outputs": [
    {
     "name": "stdout",
     "output_type": "stream",
     "text": [
      "# of outliers: 137\n",
      "# of unique outliers: 58\n"
     ]
    }
   ],
   "source": [
    "print(\"# of outliers:\", len(res_outliers))\n",
    "outliers_set = set(res_outliers)\n",
    "print(\"# of unique outliers:\", len(outliers_set))\n"
   ]
  },
  {
   "cell_type": "markdown",
   "metadata": {},
   "source": [
    "### Find out some unspecific conditions of outliers"
   ]
  },
  {
   "cell_type": "markdown",
   "metadata": {},
   "source": [
    "Consider the case of sum=0."
   ]
  },
  {
   "cell_type": "code",
   "execution_count": 29,
   "metadata": {},
   "outputs": [
    {
     "data": {
      "text/html": [
       "<div>\n",
       "<style scoped>\n",
       "    .dataframe tbody tr th:only-of-type {\n",
       "        vertical-align: middle;\n",
       "    }\n",
       "\n",
       "    .dataframe tbody tr th {\n",
       "        vertical-align: top;\n",
       "    }\n",
       "\n",
       "    .dataframe thead th {\n",
       "        text-align: right;\n",
       "    }\n",
       "</style>\n",
       "<table border=\"1\" class=\"dataframe\">\n",
       "  <thead>\n",
       "    <tr style=\"text-align: right;\">\n",
       "      <th></th>\n",
       "      <th>date</th>\n",
       "      <th>id_doc</th>\n",
       "      <th>id_order</th>\n",
       "      <th>id_card</th>\n",
       "      <th>id_tov</th>\n",
       "      <th>id_kontr</th>\n",
       "      <th>quantity</th>\n",
       "      <th>sum</th>\n",
       "      <th>is_green</th>\n",
       "      <th>id_card_int</th>\n",
       "      <th>id_doc_int</th>\n",
       "    </tr>\n",
       "  </thead>\n",
       "  <tbody>\n",
       "    <tr>\n",
       "      <th>6039525</th>\n",
       "      <td>2020-09-05 21:13:52</td>\n",
       "      <td>300C5AB6-A3EF-EA11-B444-005056A7539A</td>\n",
       "      <td>0</td>\n",
       "      <td>4744301</td>\n",
       "      <td>1113</td>\n",
       "      <td>-9999</td>\n",
       "      <td>5000.0</td>\n",
       "      <td>0.0</td>\n",
       "      <td>False</td>\n",
       "      <td>870454</td>\n",
       "      <td>4394426</td>\n",
       "    </tr>\n",
       "    <tr>\n",
       "      <th>12321204</th>\n",
       "      <td>2020-09-09 16:58:44</td>\n",
       "      <td>C6477CCC-A4F2-EA11-B444-005056A7539A</td>\n",
       "      <td>0</td>\n",
       "      <td>3937328</td>\n",
       "      <td>1113</td>\n",
       "      <td>-9999</td>\n",
       "      <td>5000.0</td>\n",
       "      <td>0.0</td>\n",
       "      <td>False</td>\n",
       "      <td>697590</td>\n",
       "      <td>18136281</td>\n",
       "    </tr>\n",
       "    <tr>\n",
       "      <th>16893288</th>\n",
       "      <td>2020-09-13 20:49:52</td>\n",
       "      <td>F7ED67C1-E9F5-EA11-B444-005056A7539A</td>\n",
       "      <td>0</td>\n",
       "      <td>3711713</td>\n",
       "      <td>1113</td>\n",
       "      <td>-9999</td>\n",
       "      <td>5000.0</td>\n",
       "      <td>0.0</td>\n",
       "      <td>False</td>\n",
       "      <td>652196</td>\n",
       "      <td>22680101</td>\n",
       "    </tr>\n",
       "    <tr>\n",
       "      <th>34221202</th>\n",
       "      <td>2020-09-25 19:45:53</td>\n",
       "      <td>98C2C76E-50FF-EA11-B444-005056A7539A</td>\n",
       "      <td>0</td>\n",
       "      <td>9359546</td>\n",
       "      <td>1113</td>\n",
       "      <td>-9999</td>\n",
       "      <td>5000.0</td>\n",
       "      <td>0.0</td>\n",
       "      <td>False</td>\n",
       "      <td>1625641</td>\n",
       "      <td>13975815</td>\n",
       "    </tr>\n",
       "    <tr>\n",
       "      <th>17568119</th>\n",
       "      <td>2020-09-13 16:13:42</td>\n",
       "      <td>EC0384CD-C3F5-EA11-B444-005056A7539A</td>\n",
       "      <td>0</td>\n",
       "      <td>B014716</td>\n",
       "      <td>1113</td>\n",
       "      <td>-9999</td>\n",
       "      <td>5000.0</td>\n",
       "      <td>0.0</td>\n",
       "      <td>False</td>\n",
       "      <td>1781537</td>\n",
       "      <td>21589222</td>\n",
       "    </tr>\n",
       "  </tbody>\n",
       "</table>\n",
       "</div>"
      ],
      "text/plain": [
       "                        date                                id_doc  id_order  \\\n",
       "6039525  2020-09-05 21:13:52  300C5AB6-A3EF-EA11-B444-005056A7539A         0   \n",
       "12321204 2020-09-09 16:58:44  C6477CCC-A4F2-EA11-B444-005056A7539A         0   \n",
       "16893288 2020-09-13 20:49:52  F7ED67C1-E9F5-EA11-B444-005056A7539A         0   \n",
       "34221202 2020-09-25 19:45:53  98C2C76E-50FF-EA11-B444-005056A7539A         0   \n",
       "17568119 2020-09-13 16:13:42  EC0384CD-C3F5-EA11-B444-005056A7539A         0   \n",
       "\n",
       "          id_card  id_tov  id_kontr  quantity  sum  is_green  id_card_int  \\\n",
       "6039525   4744301    1113     -9999    5000.0  0.0     False       870454   \n",
       "12321204  3937328    1113     -9999    5000.0  0.0     False       697590   \n",
       "16893288  3711713    1113     -9999    5000.0  0.0     False       652196   \n",
       "34221202  9359546    1113     -9999    5000.0  0.0     False      1625641   \n",
       "17568119  B014716    1113     -9999    5000.0  0.0     False      1781537   \n",
       "\n",
       "          id_doc_int  \n",
       "6039525      4394426  \n",
       "12321204    18136281  \n",
       "16893288    22680101  \n",
       "34221202    13975815  \n",
       "17568119    21589222  "
      ]
     },
     "execution_count": 29,
     "metadata": {},
     "output_type": "execute_result"
    }
   ],
   "source": [
    "res_df = df[df['sum'] == 0.0].sort_values('quantity', ascending=False)\n",
    "res_df.head()"
   ]
  },
  {
   "cell_type": "markdown",
   "metadata": {},
   "source": [
    "There are some transactions with `id_kontr` being -9999 (those, None) and having equal `quantity`=5000. Let's consider these transactions and their id_cards as outliers."
   ]
  },
  {
   "cell_type": "code",
   "execution_count": 30,
   "metadata": {},
   "outputs": [
    {
     "name": "stdout",
     "output_type": "stream",
     "text": [
      "Number of suspicious transactions: 1092\n",
      "Number of suspicious cards: 715\n"
     ]
    }
   ],
   "source": [
    "print('Number of suspicious transactions:', \n",
    "      len(df[(df['sum'] == 0.0)&(df['quantity'] == 5000)]))\n",
    "print('Number of suspicious cards:', \n",
    "      len(df[(df['sum'] == 0.0)&(df['quantity'] == 5000)].id_card_int.unique()))"
   ]
  },
  {
   "cell_type": "code",
   "execution_count": 31,
   "metadata": {},
   "outputs": [],
   "source": [
    "res_outliers = set(df[(df['sum'] == 0.0)&(df['quantity'] == 5000)].id_card_int.unique())\n",
    "outliers_set = outliers_set.union(res_outliers)"
   ]
  },
  {
   "cell_type": "code",
   "execution_count": null,
   "metadata": {},
   "outputs": [],
   "source": []
  },
  {
   "cell_type": "markdown",
   "metadata": {},
   "source": [
    "### Find out some unspecific conditions of outliers #2"
   ]
  },
  {
   "cell_type": "markdown",
   "metadata": {},
   "source": [
    "Let's find out the richest people in our dataset and filter them out."
   ]
  },
  {
   "cell_type": "code",
   "execution_count": 46,
   "metadata": {},
   "outputs": [
    {
     "data": {
      "text/html": [
       "<div>\n",
       "<style scoped>\n",
       "    .dataframe tbody tr th:only-of-type {\n",
       "        vertical-align: middle;\n",
       "    }\n",
       "\n",
       "    .dataframe tbody tr th {\n",
       "        vertical-align: top;\n",
       "    }\n",
       "\n",
       "    .dataframe thead th {\n",
       "        text-align: right;\n",
       "    }\n",
       "</style>\n",
       "<table border=\"1\" class=\"dataframe\">\n",
       "  <thead>\n",
       "    <tr style=\"text-align: right;\">\n",
       "      <th></th>\n",
       "      <th>id_card_int</th>\n",
       "      <th>sum</th>\n",
       "    </tr>\n",
       "  </thead>\n",
       "  <tbody>\n",
       "    <tr>\n",
       "      <th>652503</th>\n",
       "      <td>883386</td>\n",
       "      <td>18259091.85</td>\n",
       "    </tr>\n",
       "    <tr>\n",
       "      <th>426570</th>\n",
       "      <td>568930</td>\n",
       "      <td>211154.31</td>\n",
       "    </tr>\n",
       "    <tr>\n",
       "      <th>910003</th>\n",
       "      <td>1243870</td>\n",
       "      <td>124131.91</td>\n",
       "    </tr>\n",
       "    <tr>\n",
       "      <th>1260542</th>\n",
       "      <td>1755035</td>\n",
       "      <td>116411.20</td>\n",
       "    </tr>\n",
       "    <tr>\n",
       "      <th>1054559</th>\n",
       "      <td>1447941</td>\n",
       "      <td>98215.49</td>\n",
       "    </tr>\n",
       "  </tbody>\n",
       "</table>\n",
       "</div>"
      ],
      "text/plain": [
       "         id_card_int          sum\n",
       "652503        883386  18259091.85\n",
       "426570        568930    211154.31\n",
       "910003       1243870    124131.91\n",
       "1260542      1755035    116411.20\n",
       "1054559      1447941     98215.49"
      ]
     },
     "execution_count": 46,
     "metadata": {},
     "output_type": "execute_result"
    }
   ],
   "source": [
    "res_df = df.groupby('id_card_int', as_index=False)['sum'].sum().sort_values('sum', ascending=False)\n",
    "res_df.head()"
   ]
  },
  {
   "cell_type": "code",
   "execution_count": 49,
   "metadata": {},
   "outputs": [
    {
     "data": {
      "image/png": "[encoded data removed]",
      "text/plain": [
       "<Figure size 432x288 with 1 Axes>"
      ]
     },
     "metadata": {
      "needs_background": "light"
     },
     "output_type": "display_data"
    }
   ],
   "source": [
    "res_df[['sum']].boxplot();"
   ]
  },
  {
   "cell_type": "markdown",
   "metadata": {},
   "source": [
    "# Logarthmic plot"
   ]
  },
  {
   "cell_type": "code",
   "execution_count": 53,
   "metadata": {},
   "outputs": [
    {
     "data": {
      "image/png": "[encoded data removed]",
      "text/plain": [
       "<Figure size 432x288 with 1 Axes>"
      ]
     },
     "metadata": {
      "needs_background": "light"
     },
     "output_type": "display_data"
    }
   ],
   "source": [
    "import numpy as np\n",
    "res_df_ = res_df[res_df['sum'] == 0]\n",
    "z = pd.Series(np.log10(res_df['sum']+1))\n",
    "pd.DataFrame(z).boxplot();"
   ]
  },
  {
   "cell_type": "markdown",
   "metadata": {},
   "source": [
    "lets use then threshold of 10^5  = ~100000"
   ]
  },
  {
   "cell_type": "markdown",
   "metadata": {},
   "source": [
    "But there are also situations when a customer has total `sum` equal 0. This is also strange situation and they may be considered as outliers."
   ]
  },
  {
   "cell_type": "code",
   "execution_count": 62,
   "metadata": {},
   "outputs": [
    {
     "data": {
      "text/html": [
       "<div>\n",
       "<style scoped>\n",
       "    .dataframe tbody tr th:only-of-type {\n",
       "        vertical-align: middle;\n",
       "    }\n",
       "\n",
       "    .dataframe tbody tr th {\n",
       "        vertical-align: top;\n",
       "    }\n",
       "\n",
       "    .dataframe thead th {\n",
       "        text-align: right;\n",
       "    }\n",
       "</style>\n",
       "<table border=\"1\" class=\"dataframe\">\n",
       "  <thead>\n",
       "    <tr style=\"text-align: right;\">\n",
       "      <th></th>\n",
       "      <th>id_card_int</th>\n",
       "      <th>sum</th>\n",
       "    </tr>\n",
       "  </thead>\n",
       "  <tbody>\n",
       "    <tr>\n",
       "      <th>948089</th>\n",
       "      <td>1297710</td>\n",
       "      <td>50942.99</td>\n",
       "    </tr>\n",
       "    <tr>\n",
       "      <th>1228873</th>\n",
       "      <td>1705441</td>\n",
       "      <td>50952.78</td>\n",
       "    </tr>\n",
       "    <tr>\n",
       "      <th>109197</th>\n",
       "      <td>142812</td>\n",
       "      <td>50954.87</td>\n",
       "    </tr>\n",
       "    <tr>\n",
       "      <th>177538</th>\n",
       "      <td>232098</td>\n",
       "      <td>50964.42</td>\n",
       "    </tr>\n",
       "    <tr>\n",
       "      <th>340300</th>\n",
       "      <td>450863</td>\n",
       "      <td>50966.50</td>\n",
       "    </tr>\n",
       "    <tr>\n",
       "      <th>...</th>\n",
       "      <td>...</td>\n",
       "      <td>...</td>\n",
       "    </tr>\n",
       "    <tr>\n",
       "      <th>1054559</th>\n",
       "      <td>1447941</td>\n",
       "      <td>98215.49</td>\n",
       "    </tr>\n",
       "    <tr>\n",
       "      <th>1260542</th>\n",
       "      <td>1755035</td>\n",
       "      <td>116411.20</td>\n",
       "    </tr>\n",
       "    <tr>\n",
       "      <th>910003</th>\n",
       "      <td>1243870</td>\n",
       "      <td>124131.91</td>\n",
       "    </tr>\n",
       "    <tr>\n",
       "      <th>426570</th>\n",
       "      <td>568930</td>\n",
       "      <td>211154.31</td>\n",
       "    </tr>\n",
       "    <tr>\n",
       "      <th>652503</th>\n",
       "      <td>883386</td>\n",
       "      <td>18259091.85</td>\n",
       "    </tr>\n",
       "  </tbody>\n",
       "</table>\n",
       "<p>500 rows × 2 columns</p>\n",
       "</div>"
      ],
      "text/plain": [
       "         id_card_int          sum\n",
       "948089       1297710     50942.99\n",
       "1228873      1705441     50952.78\n",
       "109197        142812     50954.87\n",
       "177538        232098     50964.42\n",
       "340300        450863     50966.50\n",
       "...              ...          ...\n",
       "1054559      1447941     98215.49\n",
       "1260542      1755035    116411.20\n",
       "910003       1243870    124131.91\n",
       "426570        568930    211154.31\n",
       "652503        883386  18259091.85\n",
       "\n",
       "[500 rows x 2 columns]"
      ]
     },
     "execution_count": 62,
     "metadata": {},
     "output_type": "execute_result"
    }
   ],
   "source": [
    "res_df.sort_values('sum').tail(500)"
   ]
  },
  {
   "cell_type": "markdown",
   "metadata": {},
   "source": [
    "Finally, let's find out the outliers. Let's not remove much rich people (just the most obvious samples)."
   ]
  },
  {
   "cell_type": "code",
   "execution_count": 65,
   "metadata": {},
   "outputs": [],
   "source": [
    "res_outliers = set(res_df[(res_df['sum'] > 100000)]['id_card_int'].unique())\n",
    "outliers_set = outliers_set.union(res_outliers)"
   ]
  },
  {
   "cell_type": "code",
   "execution_count": 66,
   "metadata": {},
   "outputs": [
    {
     "name": "stdout",
     "output_type": "stream",
     "text": [
      "{883386, 1755035, 1243870, 568930}\n"
     ]
    }
   ],
   "source": [
    "print(res_outliers)"
   ]
  },
  {
   "cell_type": "markdown",
   "metadata": {},
   "source": [
    "### Filter out id_cards having orders with abnormal sum"
   ]
  },
  {
   "cell_type": "code",
   "execution_count": 67,
   "metadata": {},
   "outputs": [
    {
     "data": {
      "text/html": [
       "<div>\n",
       "<style scoped>\n",
       "    .dataframe tbody tr th:only-of-type {\n",
       "        vertical-align: middle;\n",
       "    }\n",
       "\n",
       "    .dataframe tbody tr th {\n",
       "        vertical-align: top;\n",
       "    }\n",
       "\n",
       "    .dataframe thead th {\n",
       "        text-align: right;\n",
       "    }\n",
       "</style>\n",
       "<table border=\"1\" class=\"dataframe\">\n",
       "  <thead>\n",
       "    <tr style=\"text-align: right;\">\n",
       "      <th></th>\n",
       "      <th>id_doc</th>\n",
       "      <th>id_card_int</th>\n",
       "      <th>sum</th>\n",
       "    </tr>\n",
       "  </thead>\n",
       "  <tbody>\n",
       "    <tr>\n",
       "      <th>0</th>\n",
       "      <td>00000230-16FC-EA11-B444-005056A7539A</td>\n",
       "      <td>1425208</td>\n",
       "      <td>396.00</td>\n",
       "    </tr>\n",
       "    <tr>\n",
       "      <th>1</th>\n",
       "      <td>00000292-91FE-EA11-B444-005056A7539A</td>\n",
       "      <td>1438933</td>\n",
       "      <td>1597.00</td>\n",
       "    </tr>\n",
       "    <tr>\n",
       "      <th>2</th>\n",
       "      <td>00000450-F1FC-EA11-B444-005056A7539A</td>\n",
       "      <td>293299</td>\n",
       "      <td>254.00</td>\n",
       "    </tr>\n",
       "    <tr>\n",
       "      <th>3</th>\n",
       "      <td>00000A30-E700-EB11-B444-005056A7539A</td>\n",
       "      <td>883386</td>\n",
       "      <td>180.00</td>\n",
       "    </tr>\n",
       "    <tr>\n",
       "      <th>4</th>\n",
       "      <td>00000C88-A3F6-EA11-B444-005056A7539A</td>\n",
       "      <td>715970</td>\n",
       "      <td>709.06</td>\n",
       "    </tr>\n",
       "  </tbody>\n",
       "</table>\n",
       "</div>"
      ],
      "text/plain": [
       "                                 id_doc  id_card_int      sum\n",
       "0  00000230-16FC-EA11-B444-005056A7539A      1425208   396.00\n",
       "1  00000292-91FE-EA11-B444-005056A7539A      1438933  1597.00\n",
       "2  00000450-F1FC-EA11-B444-005056A7539A       293299   254.00\n",
       "3  00000A30-E700-EB11-B444-005056A7539A       883386   180.00\n",
       "4  00000C88-A3F6-EA11-B444-005056A7539A       715970   709.06"
      ]
     },
     "execution_count": 67,
     "metadata": {},
     "output_type": "execute_result"
    }
   ],
   "source": [
    "res_df = df.groupby(['id_doc', 'id_card_int'], as_index=False)['sum'].sum()\n",
    "res_df.head()"
   ]
  },
  {
   "cell_type": "code",
   "execution_count": 68,
   "metadata": {},
   "outputs": [
    {
     "data": {
      "image/png": "[encoded data removed]",
      "text/plain": [
       "<Figure size 432x288 with 1 Axes>"
      ]
     },
     "metadata": {
      "needs_background": "light"
     },
     "output_type": "display_data"
    }
   ],
   "source": [
    "res_df[['sum']].boxplot();"
   ]
  },
  {
   "cell_type": "markdown",
   "metadata": {},
   "source": [
    "Let's define the threshold to be 22000."
   ]
  },
  {
   "cell_type": "code",
   "execution_count": 70,
   "metadata": {},
   "outputs": [],
   "source": [
    "res_outliers = set(res_df[res_df['sum'] > 22000]['id_card_int'].unique())\n",
    "outliers_set = outliers_set.union(res_outliers)"
   ]
  },
  {
   "cell_type": "code",
   "execution_count": null,
   "metadata": {},
   "outputs": [],
   "source": []
  },
  {
   "cell_type": "markdown",
   "metadata": {},
   "source": [
    "### Too frequent purchases"
   ]
  },
  {
   "cell_type": "code",
   "execution_count": 71,
   "metadata": {},
   "outputs": [],
   "source": [
    "df['day'] = df['date'].dt.date"
   ]
  },
  {
   "cell_type": "markdown",
   "metadata": {},
   "source": [
    "Let's consider that customers usually don't go to the shop too often - (for this experiment) no more than once per day."
   ]
  },
  {
   "cell_type": "code",
   "execution_count": 72,
   "metadata": {
    "scrolled": true
   },
   "outputs": [
    {
     "data": {
      "text/html": [
       "<div>\n",
       "<style scoped>\n",
       "    .dataframe tbody tr th:only-of-type {\n",
       "        vertical-align: middle;\n",
       "    }\n",
       "\n",
       "    .dataframe tbody tr th {\n",
       "        vertical-align: top;\n",
       "    }\n",
       "\n",
       "    .dataframe thead th {\n",
       "        text-align: right;\n",
       "    }\n",
       "</style>\n",
       "<table border=\"1\" class=\"dataframe\">\n",
       "  <thead>\n",
       "    <tr style=\"text-align: right;\">\n",
       "      <th></th>\n",
       "      <th>id_card_int</th>\n",
       "      <th>day</th>\n",
       "    </tr>\n",
       "  </thead>\n",
       "  <tbody>\n",
       "    <tr>\n",
       "      <th>209008</th>\n",
       "      <td>273464</td>\n",
       "      <td>30</td>\n",
       "    </tr>\n",
       "    <tr>\n",
       "      <th>30845</th>\n",
       "      <td>39724</td>\n",
       "      <td>30</td>\n",
       "    </tr>\n",
       "    <tr>\n",
       "      <th>1303506</th>\n",
       "      <td>1822553</td>\n",
       "      <td>30</td>\n",
       "    </tr>\n",
       "    <tr>\n",
       "      <th>1278881</th>\n",
       "      <td>1784079</td>\n",
       "      <td>30</td>\n",
       "    </tr>\n",
       "    <tr>\n",
       "      <th>365911</th>\n",
       "      <td>485450</td>\n",
       "      <td>30</td>\n",
       "    </tr>\n",
       "  </tbody>\n",
       "</table>\n",
       "</div>"
      ],
      "text/plain": [
       "         id_card_int  day\n",
       "209008        273464   30\n",
       "30845          39724   30\n",
       "1303506      1822553   30\n",
       "1278881      1784079   30\n",
       "365911        485450   30"
      ]
     },
     "execution_count": 72,
     "metadata": {},
     "output_type": "execute_result"
    }
   ],
   "source": [
    "res_df = df.groupby('id_card_int', as_index=False)['day'].nunique().sort_values('day', ascending=False)\n",
    "res_df.head()"
   ]
  },
  {
   "cell_type": "code",
   "execution_count": 74,
   "metadata": {},
   "outputs": [
    {
     "data": {
      "text/plain": [
       "1"
      ]
     },
     "execution_count": 74,
     "metadata": {},
     "output_type": "execute_result"
    }
   ],
   "source": []
  },
  {
   "cell_type": "code",
   "execution_count": 73,
   "metadata": {},
   "outputs": [
    {
     "data": {
      "image/png": "[encoded data removed]",
      "text/plain": [
       "<Figure size 432x288 with 1 Axes>"
      ]
     },
     "metadata": {
      "needs_background": "light"
     },
     "output_type": "display_data"
    }
   ],
   "source": [
    "res_df[['day']].boxplot();"
   ]
  },
  {
   "cell_type": "code",
   "execution_count": 75,
   "metadata": {},
   "outputs": [],
   "source": [
    "res_outliers = set(res_df[(res_df['day'] > 31) & (res_df['day'] < 1)]['id_card_int'].unique())\n",
    "outliers_set = outliers_set.union(res_outliers)"
   ]
  },
  {
   "cell_type": "code",
   "execution_count": null,
   "metadata": {},
   "outputs": [],
   "source": []
  },
  {
   "cell_type": "markdown",
   "metadata": {},
   "source": [
    "### Finalize and save results"
   ]
  },
  {
   "cell_type": "code",
   "execution_count": 76,
   "metadata": {},
   "outputs": [
    {
     "name": "stdout",
     "output_type": "stream",
     "text": [
      "Total number of outliers: 777\n"
     ]
    }
   ],
   "source": [
    "print('Total number of outliers:', len(outliers_set))"
   ]
  },
  {
   "cell_type": "code",
   "execution_count": 79,
   "metadata": {},
   "outputs": [],
   "source": [
    "res_df = pd.DataFrame(outliers_set, columns=['ZBR'])"
   ]
  },
  {
   "cell_type": "code",
   "execution_count": 80,
   "metadata": {},
   "outputs": [],
   "source": [
    "RESULT_PATH = './zbr.pkl.bz2'\n",
    "\n",
    "with bz2.open(RESULT_PATH, 'wb') as file:\n",
    "    pickle.dump(res_df, file, protocol=4)"
   ]
  },
  {
   "cell_type": "code",
   "execution_count": 81,
   "metadata": {},
   "outputs": [
    {
     "data": {
      "text/html": [
       "<div>\n",
       "<style scoped>\n",
       "    .dataframe tbody tr th:only-of-type {\n",
       "        vertical-align: middle;\n",
       "    }\n",
       "\n",
       "    .dataframe tbody tr th {\n",
       "        vertical-align: top;\n",
       "    }\n",
       "\n",
       "    .dataframe thead th {\n",
       "        text-align: right;\n",
       "    }\n",
       "</style>\n",
       "<table border=\"1\" class=\"dataframe\">\n",
       "  <thead>\n",
       "    <tr style=\"text-align: right;\">\n",
       "      <th></th>\n",
       "      <th>ZBR</th>\n",
       "    </tr>\n",
       "  </thead>\n",
       "  <tbody>\n",
       "    <tr>\n",
       "      <th>0</th>\n",
       "      <td>1679367</td>\n",
       "    </tr>\n",
       "    <tr>\n",
       "      <th>1</th>\n",
       "      <td>1310735</td>\n",
       "    </tr>\n",
       "    <tr>\n",
       "      <th>2</th>\n",
       "      <td>1003537</td>\n",
       "    </tr>\n",
       "    <tr>\n",
       "      <th>3</th>\n",
       "      <td>165905</td>\n",
       "    </tr>\n",
       "    <tr>\n",
       "      <th>4</th>\n",
       "      <td>126995</td>\n",
       "    </tr>\n",
       "  </tbody>\n",
       "</table>\n",
       "</div>"
      ],
      "text/plain": [
       "       ZBR\n",
       "0  1679367\n",
       "1  1310735\n",
       "2  1003537\n",
       "3   165905\n",
       "4   126995"
      ]
     },
     "execution_count": 81,
     "metadata": {},
     "output_type": "execute_result"
    }
   ],
   "source": [
    "res_df.head()"
   ]
  }
 ],
 "metadata": {
  "kernelspec": {
   "display_name": "Python 3",
   "language": "python",
   "name": "python3"
  },
  "language_info": {
   "codemirror_mode": {
    "name": "ipython",
    "version": 3
   },
   "file_extension": ".py",
   "mimetype": "text/x-python",
   "name": "python",
   "nbconvert_exporter": "python",
   "pygments_lexer": "ipython3",
   "version": "3.7.6"
  }
 },
 "nbformat": 4,
 "nbformat_minor": 2
}
